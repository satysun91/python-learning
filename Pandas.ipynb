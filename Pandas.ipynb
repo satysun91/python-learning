{
 "cells": [
  {
   "cell_type": "markdown",
   "metadata": {},
   "source": [
    "# Pandas\n",
    "Pandas is a popular Python data analysis tool.\n",
    "\n",
    "It provides easy to use and highly efficient data structures.\n",
    "\n",
    "These data structures deal with numeric or labeled data, stored in the form of tables"
   ]
  },
  {
   "cell_type": "markdown",
   "metadata": {},
   "source": [
    "# Data Structures in Pandas\n",
    "Three fundamental data structures used in pandas are,\n",
    "\n",
    "Series: A 1-D array.\n",
    "\n",
    "Data Frame: A 2-D array or two or more Series joined together\n",
    "\n",
    "Panel: A 3-D array"
   ]
  },
  {
   "cell_type": "markdown",
   "metadata": {},
   "source": [
    "# Accessing Data\n",
    "Individual elements can be accessed by specifying either index number or index value, inside the square brackets."
   ]
  },
  {
   "cell_type": "code",
   "execution_count": 60,
   "metadata": {},
   "outputs": [
    {
     "data": {
      "text/plain": [
       "13"
      ]
     },
     "execution_count": 60,
     "metadata": {},
     "output_type": "execute_result"
    }
   ],
   "source": [
    "import pandas as pd\n",
    "import numpy as np\n",
    "z = np.arange(10, 16)\n",
    "s = pd.Series(z, index=list('abcdef'))\n",
    "#Accessing 3rd element of s.\n",
    "s[2] # ---> Returns '12' \n",
    "#Accessing 4th element of s.\n",
    "s['d'] # ---> Returns '13'\n",
    "\n"
   ]
  },
  {
   "cell_type": "markdown",
   "metadata": {},
   "source": [
    "# Accessing a Single Value\n",
    "It is also possible to access a single element by passing index number or index value, as an argument to get method."
   ]
  },
  {
   "cell_type": "code",
   "execution_count": 13,
   "metadata": {},
   "outputs": [
    {
     "data": {
      "text/plain": [
       "13"
      ]
     },
     "execution_count": 13,
     "metadata": {},
     "output_type": "execute_result"
    }
   ],
   "source": [
    "s.get(2) # ---> Returns '12'\n",
    "s.get('d') # ---> Returns '13'"
   ]
  },
  {
   "cell_type": "markdown",
   "metadata": {},
   "source": [
    "# Accessing Data from a Data Frame\n",
    "Pandas allows .loc, .iloc methods for selecting rows.\n",
    "\n",
    "Using square brackets ([]) is also allowed, especially for selecting columns.\n",
    "\n",
    "More details can be gathered from the shown video."
   ]
  },
  {
   "cell_type": "code",
   "execution_count": 15,
   "metadata": {},
   "outputs": [
    {
     "data": {
      "text/html": [
       "<div>\n",
       "<style scoped>\n",
       "    .dataframe tbody tr th:only-of-type {\n",
       "        vertical-align: middle;\n",
       "    }\n",
       "\n",
       "    .dataframe tbody tr th {\n",
       "        vertical-align: top;\n",
       "    }\n",
       "\n",
       "    .dataframe thead th {\n",
       "        text-align: right;\n",
       "    }\n",
       "</style>\n",
       "<table border=\"1\" class=\"dataframe\">\n",
       "  <thead>\n",
       "    <tr style=\"text-align: right;\">\n",
       "      <th></th>\n",
       "      <th>A</th>\n",
       "      <th>B</th>\n",
       "    </tr>\n",
       "  </thead>\n",
       "  <tbody>\n",
       "    <tr>\n",
       "      <th>r1</th>\n",
       "      <td>34</td>\n",
       "      <td>12</td>\n",
       "    </tr>\n",
       "    <tr>\n",
       "      <th>r2</th>\n",
       "      <td>78</td>\n",
       "      <td>67</td>\n",
       "    </tr>\n",
       "    <tr>\n",
       "      <th>r3</th>\n",
       "      <td>54</td>\n",
       "      <td>43</td>\n",
       "    </tr>\n",
       "  </tbody>\n",
       "</table>\n",
       "</div>"
      ],
      "text/plain": [
       "     A   B\n",
       "r1  34  12\n",
       "r2  78  67\n",
       "r3  54  43"
      ]
     },
     "execution_count": 15,
     "metadata": {},
     "output_type": "execute_result"
    }
   ],
   "source": [
    "import pandas\n",
    "\n",
    "df = pd.DataFrame({'A':[34, 78, 54], 'B':[12, 67, 43]}, index=['r1', 'r2', 'r3'])\n",
    "df"
   ]
  },
  {
   "cell_type": "markdown",
   "metadata": {},
   "source": [
    "# Knowing a Series\n",
    "It is possible to understand a Series better by using describe method.\n",
    "\n",
    "The method provides details like mean, std, etc. about a series"
   ]
  },
  {
   "cell_type": "code",
   "execution_count": 23,
   "metadata": {},
   "outputs": [
    {
     "name": "stdout",
     "output_type": "stream",
     "text": [
      "count    10.000000\n",
      "mean     25.502654\n",
      "std      11.524499\n",
      "min       7.848411\n",
      "25%      19.993874\n",
      "50%      23.256424\n",
      "75%      34.191455\n",
      "max      45.919992\n",
      "dtype: float64\n"
     ]
    }
   ],
   "source": [
    "import pandas as pd\n",
    "import numpy as np\n",
    "temp = pd.Series(28 + 10*np.random.randn(10))\n",
    "print(temp.describe())"
   ]
  },
  {
   "cell_type": "markdown",
   "metadata": {},
   "source": [
    "# Knowing a DataFrame\n",
    "Two methods majorly info and describe can be used to know about the data, present in a data frame."
   ]
  },
  {
   "cell_type": "code",
   "execution_count": 24,
   "metadata": {},
   "outputs": [
    {
     "name": "stdout",
     "output_type": "stream",
     "text": [
      "<class 'pandas.core.frame.DataFrame'>\n",
      "RangeIndex: 10 entries, 0 to 9\n",
      "Data columns (total 3 columns):\n",
      "temp        10 non-null float64\n",
      "rain        10 non-null float64\n",
      "location    10 non-null object\n",
      "dtypes: float64(2), object(1)\n",
      "memory usage: 320.0+ bytes\n",
      "None\n"
     ]
    }
   ],
   "source": [
    "import pandas as pd\n",
    "import numpy as np\n",
    "df = pd.DataFrame({'temp':pd.Series(28 + 10*np.random.randn(10)), \n",
    "                'rain':pd.Series(100 + 50*np.random.randn(10)),\n",
    "             'location':list('AAAAABBBBB')})\n",
    "print(df.info())"
   ]
  },
  {
   "cell_type": "markdown",
   "metadata": {},
   "source": [
    "# Knowing a Data Frame\n",
    "You can use include argument to know about other columns."
   ]
  },
  {
   "cell_type": "code",
   "execution_count": 25,
   "metadata": {},
   "outputs": [
    {
     "name": "stdout",
     "output_type": "stream",
     "text": [
      "       location\n",
      "count        10\n",
      "unique        2\n",
      "top           A\n",
      "freq          5\n"
     ]
    }
   ],
   "source": [
    "print(df.describe(include=['object']))"
   ]
  },
  {
   "cell_type": "markdown",
   "metadata": {},
   "source": [
    "# I/O with Pandas\n",
    "Pandas provides support for reading/writing data from/to some sources.\n",
    "\n",
    "For example, read_csv is used to read data from a CSV file and to_csv is utilized to write data to a CSV file."
   ]
  },
  {
   "cell_type": "markdown",
   "metadata": {},
   "source": [
    "# Reading Data from Json\n",
    "pandas provides the utilities read_json and to_json to deal with JSON strings or files.\n",
    "\n",
    "Consider the below string EmployeeRecords for understanding conversion of a JSON string into a data frame."
   ]
  },
  {
   "cell_type": "code",
   "execution_count": 26,
   "metadata": {},
   "outputs": [],
   "source": [
    "EmployeeRecords = [{'EmployeeID':451621, 'EmployeeName':'Preeti Jain', 'DOJ':'30-Aug-2008'},\n",
    "{'EmployeeID':123621, 'EmployeeName':'Ashok Kumar', 'DOJ':'25-Sep-2016'},\n",
    "{'EmployeeID':451589, 'EmployeeName':'Johnty Rhodes', 'DOJ':'04-Nov-2016'}]"
   ]
  },
  {
   "cell_type": "code",
   "execution_count": 27,
   "metadata": {},
   "outputs": [
    {
     "name": "stdout",
     "output_type": "stream",
     "text": [
      "         DOJ  EmployeeID   EmployeeName\n",
      "0 2008-08-30      451621    Preeti Jain\n",
      "1 2016-09-25      123621    Ashok Kumar\n",
      "2 2016-11-04      451589  Johnty Rhodes\n"
     ]
    }
   ],
   "source": [
    "import json\n",
    "emp_records_json_str = json.dumps(EmployeeRecords)\n",
    "df = pd.read_json(emp_records_json_str, orient='records', convert_dates=['DOJ'])\n",
    "print(df)"
   ]
  },
  {
   "cell_type": "markdown",
   "metadata": {},
   "source": [
    "# Indexing\n",
    "Indexing refers to labeling data elements of a Series, a Data Frame or a Panel.\n",
    "\n",
    "These labels can be utilized for selecting portion of data from any of the defined data structures."
   ]
  },
  {
   "cell_type": "markdown",
   "metadata": {},
   "source": [
    "# Indexing a Data Frame\n",
    "A single level index can be set to a data frame, by passing a list of values to either using index attribute or index argument of DataFrame function."
   ]
  },
  {
   "cell_type": "code",
   "execution_count": 28,
   "metadata": {},
   "outputs": [
    {
     "data": {
      "text/html": [
       "<div>\n",
       "<style scoped>\n",
       "    .dataframe tbody tr th:only-of-type {\n",
       "        vertical-align: middle;\n",
       "    }\n",
       "\n",
       "    .dataframe tbody tr th {\n",
       "        vertical-align: top;\n",
       "    }\n",
       "\n",
       "    .dataframe thead th {\n",
       "        text-align: right;\n",
       "    }\n",
       "</style>\n",
       "<table border=\"1\" class=\"dataframe\">\n",
       "  <thead>\n",
       "    <tr style=\"text-align: right;\">\n",
       "      <th></th>\n",
       "      <th>0</th>\n",
       "      <th>1</th>\n",
       "    </tr>\n",
       "  </thead>\n",
       "  <tbody>\n",
       "    <tr>\n",
       "      <th>row_1</th>\n",
       "      <td>0.020748</td>\n",
       "      <td>0.398563</td>\n",
       "    </tr>\n",
       "    <tr>\n",
       "      <th>row_2</th>\n",
       "      <td>0.452581</td>\n",
       "      <td>0.502894</td>\n",
       "    </tr>\n",
       "    <tr>\n",
       "      <th>row_3</th>\n",
       "      <td>0.344559</td>\n",
       "      <td>0.549444</td>\n",
       "    </tr>\n",
       "    <tr>\n",
       "      <th>row_4</th>\n",
       "      <td>0.867008</td>\n",
       "      <td>0.870582</td>\n",
       "    </tr>\n",
       "    <tr>\n",
       "      <th>row_5</th>\n",
       "      <td>0.636587</td>\n",
       "      <td>0.044933</td>\n",
       "    </tr>\n",
       "  </tbody>\n",
       "</table>\n",
       "</div>"
      ],
      "text/plain": [
       "              0         1\n",
       "row_1  0.020748  0.398563\n",
       "row_2  0.452581  0.502894\n",
       "row_3  0.344559  0.549444\n",
       "row_4  0.867008  0.870582\n",
       "row_5  0.636587  0.044933"
      ]
     },
     "execution_count": 28,
     "metadata": {},
     "output_type": "execute_result"
    }
   ],
   "source": [
    "import pandas as pd\n",
    "import numpy as np\n",
    "df = pd.DataFrame(np.random.rand(5,2))\n",
    "df.index = [ 'row_' + str(i) for i in range(1, 6) ]\n",
    "df"
   ]
  },
  {
   "cell_type": "markdown",
   "metadata": {},
   "source": [
    "# DateTime Indexes\n",
    "Pandas support generating a range of dates, with methods like date_range, bdate_range."
   ]
  },
  {
   "cell_type": "code",
   "execution_count": 29,
   "metadata": {},
   "outputs": [],
   "source": [
    "d = pd.date_range('11-Sep-2017', '17-Sep-2017', freq='2D')"
   ]
  },
  {
   "cell_type": "code",
   "execution_count": 30,
   "metadata": {},
   "outputs": [
    {
     "data": {
      "text/plain": [
       "DatetimeIndex(['2017-09-12 02:00:00', '2017-09-14 02:00:00',\n",
       "               '2017-09-16 02:00:00', '2017-09-18 02:00:00'],\n",
       "              dtype='datetime64[ns]', freq='2D')"
      ]
     },
     "execution_count": 30,
     "metadata": {},
     "output_type": "execute_result"
    }
   ],
   "source": [
    "d + pd.Timedelta('1 days 2 hours')"
   ]
  },
  {
   "cell_type": "code",
   "execution_count": 31,
   "metadata": {},
   "outputs": [
    {
     "data": {
      "text/plain": [
       "1"
      ]
     },
     "execution_count": 31,
     "metadata": {},
     "output_type": "execute_result"
    }
   ],
   "source": [
    "import pandas as pd\n",
    "\n",
    "d = pd.date_range('11-Sep-2017', '17-Sep-2017', freq='2D')\n",
    "len(d[d.isin(pd.to_datetime(['12-09-2017', '15-09-2017']))])"
   ]
  },
  {
   "cell_type": "code",
   "execution_count": 33,
   "metadata": {},
   "outputs": [
    {
     "data": {
      "text/plain": [
       "1"
      ]
     },
     "execution_count": 33,
     "metadata": {},
     "output_type": "execute_result"
    }
   ],
   "source": [
    "PeriodIndex=pd.period_range('11-Sep-2017', '17-Sep-2017', freq='M')\n",
    "len(PeriodIndex)"
   ]
  },
  {
   "cell_type": "markdown",
   "metadata": {},
   "source": [
    "# Data Cleaning\n",
    "Data Cleaning refers to transformation of raw data to a useful structured form, which is used for further analysis.\n",
    "\n",
    "The process includes various steps like dealing with missing values."
   ]
  },
  {
   "cell_type": "markdown",
   "metadata": {},
   "source": [
    "# Data Cleaning Methods\n",
    "Pandas provide methods like drop_duplicates, isnull, etc to deal with missing data.\n",
    "\n",
    "The below video illustrates various methods used for dealing with missing data."
   ]
  },
  {
   "cell_type": "markdown",
   "metadata": {},
   "source": [
    "# Data Aggregation\n",
    "Data Aggregation refers to identifying data satisfying a condition.\n",
    "\n",
    "It helps in studying one or more aggregated groups together."
   ]
  },
  {
   "cell_type": "markdown",
   "metadata": {},
   "source": [
    "# Transforming Data\n",
    "Consider the below defined data frame df, for understanding Data transformation."
   ]
  },
  {
   "cell_type": "code",
   "execution_count": 34,
   "metadata": {},
   "outputs": [
    {
     "name": "stdout",
     "output_type": "stream",
     "text": [
      "        temp        rain location\n",
      "0  25.742712   60.201286        A\n",
      "1  28.044611  118.797366        A\n"
     ]
    }
   ],
   "source": [
    "df = pd.DataFrame({'temp':pd.Series(28 + 10*np.random.randn(10)),\n",
    "                   'rain':pd.Series(100 + 50*np.random.randn(10)),\n",
    "                   'location':list('AAAAABBBBB')\n",
    "})\n",
    "print(df.head(2))"
   ]
  },
  {
   "cell_type": "markdown",
   "metadata": {},
   "source": [
    "# Transforming Data\n",
    "The below code replaces location names 'A' with 'Hyderabad' and 'B' with 'Mumbai'."
   ]
  },
  {
   "cell_type": "code",
   "execution_count": 35,
   "metadata": {},
   "outputs": [
    {
     "name": "stdout",
     "output_type": "stream",
     "text": [
      "        temp        rain   location\n",
      "0  25.742712   60.201286  Hyderabad\n",
      "1  28.044611  118.797366  Hyderabad\n"
     ]
    }
   ],
   "source": [
    "replacements = {\n",
    "'location': {'A':'Hyderabad', 'B':'Mumbai'}\n",
    "}\n",
    "df = df.replace(replacements, regex=True)\n",
    "print(df.head(2))\n"
   ]
  },
  {
   "cell_type": "markdown",
   "metadata": {},
   "source": [
    "# Transforming Data\n",
    "It is also possible to filter rows, based on a column strings with a specific pattern and modify them."
   ]
  },
  {
   "cell_type": "code",
   "execution_count": 36,
   "metadata": {},
   "outputs": [
    {
     "name": "stdout",
     "output_type": "stream",
     "text": [
      "        temp        rain location\n",
      "5  14.685726  119.852946   Mumbai\n",
      "6  40.538044  102.744401   Mumbai\n"
     ]
    }
   ],
   "source": [
    "mumbai_data = df.loc[df.location.str.contains('umb'),:]\n",
    "\n",
    "print(mumbai_data.head(2))"
   ]
  },
  {
   "cell_type": "markdown",
   "metadata": {},
   "source": [
    "# Grouping Data\n",
    "groupby method can be used to group data and perform various function on each group"
   ]
  },
  {
   "cell_type": "code",
   "execution_count": 37,
   "metadata": {},
   "outputs": [
    {
     "name": "stdout",
     "output_type": "stream",
     "text": [
      "                temp        rain\n",
      "location                        \n",
      "Hyderabad  24.210822   72.909057\n",
      "Mumbai     29.306292  110.526412\n"
     ]
    }
   ],
   "source": [
    "regions = df.groupby('location')\n",
    "print(regions.mean())"
   ]
  },
  {
   "cell_type": "markdown",
   "metadata": {},
   "source": [
    "# Merging Data\n",
    "Data Merging refers to combining data stored in multiple entities based on a specific criteria.\n",
    "\n",
    "Pandas provides utilities like merge, which is used to merge two or more data frames."
   ]
  },
  {
   "cell_type": "markdown",
   "metadata": {},
   "source": [
    "# Merging Data Frames\n",
    "Pandas provide merge method to join two data frames.\n",
    "\n",
    "The below video illustrates merging two data frames based on one and more keys."
   ]
  },
  {
   "cell_type": "code",
   "execution_count": 39,
   "metadata": {},
   "outputs": [
    {
     "data": {
      "text/plain": [
       "(4, 3)"
      ]
     },
     "execution_count": 39,
     "metadata": {},
     "output_type": "execute_result"
    }
   ],
   "source": [
    "import pandas as pd\n",
    "\n",
    "s1 = pd.Series([0, 1, 2, 3])\n",
    "s2 = pd.Series([0, 1, 2, 3])\n",
    "s3 = pd.Series([0, 1, 4, 5])\n",
    "d = pd.concat([s1, s2, s3], axis=1)\n",
    "\n",
    "d.shape"
   ]
  },
  {
   "cell_type": "code",
   "execution_count": 51,
   "metadata": {},
   "outputs": [
    {
     "data": {
      "text/html": [
       "<div>\n",
       "<style scoped>\n",
       "    .dataframe tbody tr th:only-of-type {\n",
       "        vertical-align: middle;\n",
       "    }\n",
       "\n",
       "    .dataframe tbody tr th {\n",
       "        vertical-align: top;\n",
       "    }\n",
       "\n",
       "    .dataframe thead th {\n",
       "        text-align: right;\n",
       "    }\n",
       "</style>\n",
       "<table border=\"1\" class=\"dataframe\">\n",
       "  <thead>\n",
       "    <tr style=\"text-align: right;\">\n",
       "      <th></th>\n",
       "      <th>A</th>\n",
       "      <th>B</th>\n",
       "    </tr>\n",
       "  </thead>\n",
       "  <tbody>\n",
       "    <tr>\n",
       "      <th>r2</th>\n",
       "      <td>78</td>\n",
       "      <td>67</td>\n",
       "    </tr>\n",
       "    <tr>\n",
       "      <th>r3</th>\n",
       "      <td>54</td>\n",
       "      <td>43</td>\n",
       "    </tr>\n",
       "  </tbody>\n",
       "</table>\n",
       "</div>"
      ],
      "text/plain": [
       "     A   B\n",
       "r2  78  67\n",
       "r3  54  43"
      ]
     },
     "execution_count": 51,
     "metadata": {},
     "output_type": "execute_result"
    }
   ],
   "source": [
    "import pandas as pd\n",
    "\n",
    "df = pd.DataFrame({'A':[34, 78, 54], 'B':[12, 67, 43]}, index=['r1', 'r2', 'r3'])\n",
    "df.loc['r2':'r3']"
   ]
  },
  {
   "cell_type": "code",
   "execution_count": 54,
   "metadata": {},
   "outputs": [
    {
     "data": {
      "text/plain": [
       "a    False\n",
       "b     True\n",
       "c     True\n",
       "dtype: bool"
      ]
     },
     "execution_count": 54,
     "metadata": {},
     "output_type": "execute_result"
    }
   ],
   "source": [
    "s = pd.Series([99, 32, 67],list('abc'))\n",
    "s.isin([67,32])"
   ]
  },
  {
   "cell_type": "markdown",
   "metadata": {},
   "source": [
    "# Task 1\n",
    "Create a series named heights_A with values 176.2, 158.4, 167.6, 156.2, and 161.4. These values represent the heights of 5 students of class A.\n",
    "\n",
    "Label each student as s1, s2, s3, s4, and s5.\n",
    "\n",
    "Create another series named weights_A with values 85.1, 90.2, 76.8, 80.4, and 78.9. These values represent the weights of 5 students of class A.\n",
    "\n",
    "Label each student as s1, s2, s3, s4, and s5.\n",
    "\n",
    "Create a dataframe named df_A, which holds the height and weight of five students s1, s2, s3, s4 and s5.\n",
    "\n",
    "Label the columns as Student_height and Student_weight, respectively.\n",
    "\n",
    "Filter the rows from df_A, whose Student_height > 160.0 and Student_weight < 80.0, and capture them in another dataframe df_A_filter1.\n",
    "\n",
    "Print the dataframe df_A_filter1"
   ]
  },
  {
   "cell_type": "markdown",
   "metadata": {},
   "source": [
    "# Task 2\n",
    "Filter the rows from df_A, whose index values end with 5, and capture them in another dataframe df_A_filter2.\n",
    "\n",
    "Print the dataframe df_A_filter2"
   ]
  },
  {
   "cell_type": "markdown",
   "metadata": {},
   "source": [
    "# Task 3\n",
    "Create a new column Gender in the dataframe df_A using the command: df_A['Gender'] = ['M', 'F', 'M', 'M', 'F']\n",
    "Group df_A based on Gender, and capture the result in df_groups.\n",
    "Print the mean height and weight of each group. Note: Use the groupby method to group df_A, and then call the mean method on grouped data df_groups."
   ]
  },
  {
   "cell_type": "code",
   "execution_count": null,
   "metadata": {},
   "outputs": [],
   "source": []
  },
  {
   "cell_type": "code",
   "execution_count": null,
   "metadata": {},
   "outputs": [],
   "source": []
  },
  {
   "cell_type": "code",
   "execution_count": null,
   "metadata": {},
   "outputs": [],
   "source": []
  },
  {
   "cell_type": "code",
   "execution_count": null,
   "metadata": {},
   "outputs": [],
   "source": []
  }
 ],
 "metadata": {
  "kernelspec": {
   "display_name": "Python 3",
   "language": "python",
   "name": "python3"
  },
  "language_info": {
   "codemirror_mode": {
    "name": "ipython",
    "version": 3
   },
   "file_extension": ".py",
   "mimetype": "text/x-python",
   "name": "python",
   "nbconvert_exporter": "python",
   "pygments_lexer": "ipython3",
   "version": "3.7.3"
  }
 },
 "nbformat": 4,
 "nbformat_minor": 2
}
